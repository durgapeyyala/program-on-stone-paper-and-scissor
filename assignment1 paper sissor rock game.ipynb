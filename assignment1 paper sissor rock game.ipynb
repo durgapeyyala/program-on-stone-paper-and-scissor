{
 "cells": [
  {
   "cell_type": "code",
   "execution_count": 6,
   "id": "e7594a6a",
   "metadata": {},
   "outputs": [
    {
     "name": "stdout",
     "output_type": "stream",
     "text": [
      "enter any number2\n",
      "enter any number3\n",
      "player2 wins because sissor cuts the paper\n"
     ]
    }
   ],
   "source": [
    "rock=1\n",
    "paper=2\n",
    "scissor=3\n",
    "player1=int(input(\"enter any number\"))\n",
    "player2=int(input(\"enter any number\"))\n",
    "if player1==1 and player2==2:\n",
    "    print(\"player 2 is wins because paper cover the rock\") \n",
    "elif player1==1 and player2==3: \n",
    "    print(\"player1 is wins because rock breaks the sissor\") \n",
    "elif player1==2 and player2==1: \n",
    "    print(\"player1 was wins because paper covers the rock\") \n",
    "elif player1==2 and player2==3: \n",
    "    print(\"player2 wins because sissor cuts the paper\") \n",
    "elif player1==3 and player2==1: \n",
    "    print(\"player2 wins because rock breaks the sissor\") \n",
    "elif player1==3 and player2==2: \n",
    "    print(\"player1 wins because sissor cuts the paper\") \n",
    "else: \n",
    "    print(\"the game was tie\")"
   ]
  },
  {
   "cell_type": "code",
   "execution_count": null,
   "id": "4a8df03b",
   "metadata": {},
   "outputs": [],
   "source": []
  }
 ],
 "metadata": {
  "kernelspec": {
   "display_name": "Python 3 (ipykernel)",
   "language": "python",
   "name": "python3"
  },
  "language_info": {
   "codemirror_mode": {
    "name": "ipython",
    "version": 3
   },
   "file_extension": ".py",
   "mimetype": "text/x-python",
   "name": "python",
   "nbconvert_exporter": "python",
   "pygments_lexer": "ipython3",
   "version": "3.9.13"
  }
 },
 "nbformat": 4,
 "nbformat_minor": 5
}
